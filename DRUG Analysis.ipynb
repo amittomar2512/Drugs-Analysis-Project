{
 "cells": [
  {
   "cell_type": "code",
   "execution_count": 1,
   "id": "0f3df4a7",
   "metadata": {},
   "outputs": [],
   "source": [
    "# Import Desired Library:\n",
    "import pandas as pd\n",
    "import numpy as np"
   ]
  },
  {
   "cell_type": "code",
   "execution_count": 2,
   "id": "1aa2edb8",
   "metadata": {},
   "outputs": [],
   "source": [
    "# uploading the Dataset.\n",
    "train=pd.read_parquet(\"train.parquet\")\n",
    "test=pd.read_parquet(\"test.parquet\")"
   ]
  },
  {
   "cell_type": "markdown",
   "id": "a24d5897",
   "metadata": {},
   "source": [
    "# Cleaning the Train Dataset."
   ]
  },
  {
   "cell_type": "code",
   "execution_count": 3,
   "id": "50198abd",
   "metadata": {},
   "outputs": [
    {
     "data": {
      "text/html": [
       "<div>\n",
       "<style scoped>\n",
       "    .dataframe tbody tr th:only-of-type {\n",
       "        vertical-align: middle;\n",
       "    }\n",
       "\n",
       "    .dataframe tbody tr th {\n",
       "        vertical-align: top;\n",
       "    }\n",
       "\n",
       "    .dataframe thead th {\n",
       "        text-align: right;\n",
       "    }\n",
       "</style>\n",
       "<table border=\"1\" class=\"dataframe\">\n",
       "  <thead>\n",
       "    <tr style=\"text-align: right;\">\n",
       "      <th></th>\n",
       "      <th>Patient-Uid</th>\n",
       "      <th>Date</th>\n",
       "      <th>Incident</th>\n",
       "    </tr>\n",
       "  </thead>\n",
       "  <tbody>\n",
       "    <tr>\n",
       "      <th>0</th>\n",
       "      <td>a0db1e73-1c7c-11ec-ae39-16262ee38c7f</td>\n",
       "      <td>2019-03-09</td>\n",
       "      <td>PRIMARY_DIAGNOSIS</td>\n",
       "    </tr>\n",
       "    <tr>\n",
       "      <th>1</th>\n",
       "      <td>a0dc93f2-1c7c-11ec-9cd2-16262ee38c7f</td>\n",
       "      <td>2015-05-16</td>\n",
       "      <td>PRIMARY_DIAGNOSIS</td>\n",
       "    </tr>\n",
       "    <tr>\n",
       "      <th>3</th>\n",
       "      <td>a0dc94c6-1c7c-11ec-a3a0-16262ee38c7f</td>\n",
       "      <td>2018-01-30</td>\n",
       "      <td>SYMPTOM_TYPE_0</td>\n",
       "    </tr>\n",
       "    <tr>\n",
       "      <th>4</th>\n",
       "      <td>a0dc950b-1c7c-11ec-b6ec-16262ee38c7f</td>\n",
       "      <td>2015-04-22</td>\n",
       "      <td>DRUG_TYPE_0</td>\n",
       "    </tr>\n",
       "    <tr>\n",
       "      <th>8</th>\n",
       "      <td>a0dc9543-1c7c-11ec-bb63-16262ee38c7f</td>\n",
       "      <td>2016-06-18</td>\n",
       "      <td>DRUG_TYPE_1</td>\n",
       "    </tr>\n",
       "  </tbody>\n",
       "</table>\n",
       "</div>"
      ],
      "text/plain": [
       "                            Patient-Uid       Date           Incident\n",
       "0  a0db1e73-1c7c-11ec-ae39-16262ee38c7f 2019-03-09  PRIMARY_DIAGNOSIS\n",
       "1  a0dc93f2-1c7c-11ec-9cd2-16262ee38c7f 2015-05-16  PRIMARY_DIAGNOSIS\n",
       "3  a0dc94c6-1c7c-11ec-a3a0-16262ee38c7f 2018-01-30     SYMPTOM_TYPE_0\n",
       "4  a0dc950b-1c7c-11ec-b6ec-16262ee38c7f 2015-04-22        DRUG_TYPE_0\n",
       "8  a0dc9543-1c7c-11ec-bb63-16262ee38c7f 2016-06-18        DRUG_TYPE_1"
      ]
     },
     "execution_count": 3,
     "metadata": {},
     "output_type": "execute_result"
    }
   ],
   "source": [
    "#View the top 5 datapoints of dataset.\n",
    "train.head()"
   ]
  },
  {
   "cell_type": "code",
   "execution_count": 4,
   "id": "93ecb9e3",
   "metadata": {},
   "outputs": [],
   "source": [
    "# dROPPING THE DATE AS IT DOESNOT HAVE SIGNIFICANT ROLE.\n",
    "train1=train.drop('Date',axis=1)"
   ]
  },
  {
   "cell_type": "code",
   "execution_count": 5,
   "id": "7f23b4b8",
   "metadata": {},
   "outputs": [
    {
     "data": {
      "text/html": [
       "<div>\n",
       "<style scoped>\n",
       "    .dataframe tbody tr th:only-of-type {\n",
       "        vertical-align: middle;\n",
       "    }\n",
       "\n",
       "    .dataframe tbody tr th {\n",
       "        vertical-align: top;\n",
       "    }\n",
       "\n",
       "    .dataframe thead th {\n",
       "        text-align: right;\n",
       "    }\n",
       "</style>\n",
       "<table border=\"1\" class=\"dataframe\">\n",
       "  <thead>\n",
       "    <tr style=\"text-align: right;\">\n",
       "      <th></th>\n",
       "      <th>Patient-Uid</th>\n",
       "      <th>Incident</th>\n",
       "    </tr>\n",
       "  </thead>\n",
       "  <tbody>\n",
       "    <tr>\n",
       "      <th>0</th>\n",
       "      <td>a0db1e73-1c7c-11ec-ae39-16262ee38c7f</td>\n",
       "      <td>PRIMARY_DIAGNOSIS</td>\n",
       "    </tr>\n",
       "    <tr>\n",
       "      <th>1</th>\n",
       "      <td>a0dc93f2-1c7c-11ec-9cd2-16262ee38c7f</td>\n",
       "      <td>PRIMARY_DIAGNOSIS</td>\n",
       "    </tr>\n",
       "  </tbody>\n",
       "</table>\n",
       "</div>"
      ],
      "text/plain": [
       "                            Patient-Uid           Incident\n",
       "0  a0db1e73-1c7c-11ec-ae39-16262ee38c7f  PRIMARY_DIAGNOSIS\n",
       "1  a0dc93f2-1c7c-11ec-9cd2-16262ee38c7f  PRIMARY_DIAGNOSIS"
      ]
     },
     "execution_count": 5,
     "metadata": {},
     "output_type": "execute_result"
    }
   ],
   "source": [
    "# Viewing the dataset\n",
    "train1.head(2)"
   ]
  },
  {
   "cell_type": "code",
   "execution_count": 6,
   "id": "f1b57b02",
   "metadata": {},
   "outputs": [],
   "source": [
    "# Doing OneHotEncoding:\n",
    "train_data=pd.get_dummies(train['Incident'], drop_first=True)"
   ]
  },
  {
   "cell_type": "code",
   "execution_count": 7,
   "id": "fc657c9f",
   "metadata": {},
   "outputs": [],
   "source": [
    "# Concating the datasets.\n",
    "train2=pd.concat([train1,train_data],axis=1)"
   ]
  },
  {
   "cell_type": "code",
   "execution_count": 8,
   "id": "7f7a4ce8",
   "metadata": {},
   "outputs": [],
   "source": [
    "# Dropping the Incident feature as it now Encoded.\n",
    "train3=train2.drop('Incident',axis=1)"
   ]
  },
  {
   "cell_type": "code",
   "execution_count": 9,
   "id": "5b385815",
   "metadata": {
    "scrolled": false
   },
   "outputs": [
    {
     "data": {
      "text/html": [
       "<div>\n",
       "<style scoped>\n",
       "    .dataframe tbody tr th:only-of-type {\n",
       "        vertical-align: middle;\n",
       "    }\n",
       "\n",
       "    .dataframe tbody tr th {\n",
       "        vertical-align: top;\n",
       "    }\n",
       "\n",
       "    .dataframe thead th {\n",
       "        text-align: right;\n",
       "    }\n",
       "</style>\n",
       "<table border=\"1\" class=\"dataframe\">\n",
       "  <thead>\n",
       "    <tr style=\"text-align: right;\">\n",
       "      <th></th>\n",
       "      <th>Patient-Uid</th>\n",
       "      <th>DRUG_TYPE_1</th>\n",
       "      <th>DRUG_TYPE_10</th>\n",
       "      <th>DRUG_TYPE_11</th>\n",
       "      <th>DRUG_TYPE_12</th>\n",
       "      <th>DRUG_TYPE_13</th>\n",
       "      <th>DRUG_TYPE_14</th>\n",
       "      <th>DRUG_TYPE_15</th>\n",
       "      <th>DRUG_TYPE_16</th>\n",
       "      <th>DRUG_TYPE_17</th>\n",
       "      <th>...</th>\n",
       "      <th>SYMPTOM_TYPE_7</th>\n",
       "      <th>SYMPTOM_TYPE_8</th>\n",
       "      <th>SYMPTOM_TYPE_9</th>\n",
       "      <th>TARGET DRUG</th>\n",
       "      <th>TEST_TYPE_0</th>\n",
       "      <th>TEST_TYPE_1</th>\n",
       "      <th>TEST_TYPE_2</th>\n",
       "      <th>TEST_TYPE_3</th>\n",
       "      <th>TEST_TYPE_4</th>\n",
       "      <th>TEST_TYPE_5</th>\n",
       "    </tr>\n",
       "  </thead>\n",
       "  <tbody>\n",
       "    <tr>\n",
       "      <th>0</th>\n",
       "      <td>a0db1e73-1c7c-11ec-ae39-16262ee38c7f</td>\n",
       "      <td>0</td>\n",
       "      <td>0</td>\n",
       "      <td>0</td>\n",
       "      <td>0</td>\n",
       "      <td>0</td>\n",
       "      <td>0</td>\n",
       "      <td>0</td>\n",
       "      <td>0</td>\n",
       "      <td>0</td>\n",
       "      <td>...</td>\n",
       "      <td>0</td>\n",
       "      <td>0</td>\n",
       "      <td>0</td>\n",
       "      <td>0</td>\n",
       "      <td>0</td>\n",
       "      <td>0</td>\n",
       "      <td>0</td>\n",
       "      <td>0</td>\n",
       "      <td>0</td>\n",
       "      <td>0</td>\n",
       "    </tr>\n",
       "    <tr>\n",
       "      <th>1</th>\n",
       "      <td>a0dc93f2-1c7c-11ec-9cd2-16262ee38c7f</td>\n",
       "      <td>0</td>\n",
       "      <td>0</td>\n",
       "      <td>0</td>\n",
       "      <td>0</td>\n",
       "      <td>0</td>\n",
       "      <td>0</td>\n",
       "      <td>0</td>\n",
       "      <td>0</td>\n",
       "      <td>0</td>\n",
       "      <td>...</td>\n",
       "      <td>0</td>\n",
       "      <td>0</td>\n",
       "      <td>0</td>\n",
       "      <td>0</td>\n",
       "      <td>0</td>\n",
       "      <td>0</td>\n",
       "      <td>0</td>\n",
       "      <td>0</td>\n",
       "      <td>0</td>\n",
       "      <td>0</td>\n",
       "    </tr>\n",
       "  </tbody>\n",
       "</table>\n",
       "<p>2 rows × 57 columns</p>\n",
       "</div>"
      ],
      "text/plain": [
       "                            Patient-Uid  DRUG_TYPE_1  DRUG_TYPE_10  \\\n",
       "0  a0db1e73-1c7c-11ec-ae39-16262ee38c7f            0             0   \n",
       "1  a0dc93f2-1c7c-11ec-9cd2-16262ee38c7f            0             0   \n",
       "\n",
       "   DRUG_TYPE_11  DRUG_TYPE_12  DRUG_TYPE_13  DRUG_TYPE_14  DRUG_TYPE_15  \\\n",
       "0             0             0             0             0             0   \n",
       "1             0             0             0             0             0   \n",
       "\n",
       "   DRUG_TYPE_16  DRUG_TYPE_17  ...  SYMPTOM_TYPE_7  SYMPTOM_TYPE_8  \\\n",
       "0             0             0  ...               0               0   \n",
       "1             0             0  ...               0               0   \n",
       "\n",
       "   SYMPTOM_TYPE_9  TARGET DRUG  TEST_TYPE_0  TEST_TYPE_1  TEST_TYPE_2  \\\n",
       "0               0            0            0            0            0   \n",
       "1               0            0            0            0            0   \n",
       "\n",
       "   TEST_TYPE_3  TEST_TYPE_4  TEST_TYPE_5  \n",
       "0            0            0            0  \n",
       "1            0            0            0  \n",
       "\n",
       "[2 rows x 57 columns]"
      ]
     },
     "execution_count": 9,
     "metadata": {},
     "output_type": "execute_result"
    }
   ],
   "source": [
    "# Viewing the newdataset\n",
    "train3.head(2)"
   ]
  },
  {
   "cell_type": "code",
   "execution_count": 10,
   "id": "3bbd161d",
   "metadata": {},
   "outputs": [
    {
     "data": {
      "text/plain": [
       "0    3153650\n",
       "1      67218\n",
       "Name: TARGET DRUG, dtype: int64"
      ]
     },
     "execution_count": 10,
     "metadata": {},
     "output_type": "execute_result"
    }
   ],
   "source": [
    "# Viewing the Values of Traget Variable.\n",
    "train3['TARGET DRUG'].value_counts()"
   ]
  },
  {
   "cell_type": "markdown",
   "id": "37d39c7d",
   "metadata": {},
   "source": [
    "As here the Data is Imbalanced so we will now balance the dataset."
   ]
  },
  {
   "cell_type": "markdown",
   "id": "f135466a",
   "metadata": {},
   "source": [
    "# Balancing the training dataset"
   ]
  },
  {
   "cell_type": "code",
   "execution_count": 11,
   "id": "dbebefac",
   "metadata": {},
   "outputs": [],
   "source": [
    "# Extracting the target 0 values\n",
    "train0=train3[train3['TARGET DRUG']==0]"
   ]
  },
  {
   "cell_type": "code",
   "execution_count": 12,
   "id": "636af869",
   "metadata": {},
   "outputs": [],
   "source": [
    "# Extracting the target 0 values\n",
    "train01=train3[train3['TARGET DRUG']==1]"
   ]
  },
  {
   "cell_type": "code",
   "execution_count": 13,
   "id": "2e08d77b",
   "metadata": {},
   "outputs": [],
   "source": [
    "# sampling the dataset.\n",
    "train00=train0.sample(n=67218)"
   ]
  },
  {
   "cell_type": "code",
   "execution_count": 14,
   "id": "a20f337e",
   "metadata": {},
   "outputs": [],
   "source": [
    "# Grouping the dataset of target 0 by patient uid\n",
    "train00_data=train00.groupby(by='Patient-Uid',as_index=False).mean()"
   ]
  },
  {
   "cell_type": "code",
   "execution_count": 15,
   "id": "50fffcb9",
   "metadata": {
    "scrolled": true
   },
   "outputs": [
    {
     "data": {
      "text/html": [
       "<div>\n",
       "<style scoped>\n",
       "    .dataframe tbody tr th:only-of-type {\n",
       "        vertical-align: middle;\n",
       "    }\n",
       "\n",
       "    .dataframe tbody tr th {\n",
       "        vertical-align: top;\n",
       "    }\n",
       "\n",
       "    .dataframe thead th {\n",
       "        text-align: right;\n",
       "    }\n",
       "</style>\n",
       "<table border=\"1\" class=\"dataframe\">\n",
       "  <thead>\n",
       "    <tr style=\"text-align: right;\">\n",
       "      <th></th>\n",
       "      <th>Patient-Uid</th>\n",
       "      <th>DRUG_TYPE_1</th>\n",
       "      <th>DRUG_TYPE_10</th>\n",
       "      <th>DRUG_TYPE_11</th>\n",
       "      <th>DRUG_TYPE_12</th>\n",
       "      <th>DRUG_TYPE_13</th>\n",
       "      <th>DRUG_TYPE_14</th>\n",
       "      <th>DRUG_TYPE_15</th>\n",
       "      <th>DRUG_TYPE_16</th>\n",
       "      <th>DRUG_TYPE_17</th>\n",
       "      <th>...</th>\n",
       "      <th>SYMPTOM_TYPE_7</th>\n",
       "      <th>SYMPTOM_TYPE_8</th>\n",
       "      <th>SYMPTOM_TYPE_9</th>\n",
       "      <th>TARGET DRUG</th>\n",
       "      <th>TEST_TYPE_0</th>\n",
       "      <th>TEST_TYPE_1</th>\n",
       "      <th>TEST_TYPE_2</th>\n",
       "      <th>TEST_TYPE_3</th>\n",
       "      <th>TEST_TYPE_4</th>\n",
       "      <th>TEST_TYPE_5</th>\n",
       "    </tr>\n",
       "  </thead>\n",
       "  <tbody>\n",
       "    <tr>\n",
       "      <th>0</th>\n",
       "      <td>a0dc93f2-1c7c-11ec-9cd2-16262ee38c7f</td>\n",
       "      <td>0.0</td>\n",
       "      <td>0.0</td>\n",
       "      <td>0.000000</td>\n",
       "      <td>0.0</td>\n",
       "      <td>0.0</td>\n",
       "      <td>0.0</td>\n",
       "      <td>0.0</td>\n",
       "      <td>0.0</td>\n",
       "      <td>0.0</td>\n",
       "      <td>...</td>\n",
       "      <td>0.0</td>\n",
       "      <td>0.0</td>\n",
       "      <td>0.0</td>\n",
       "      <td>0.0</td>\n",
       "      <td>0.0</td>\n",
       "      <td>0.0</td>\n",
       "      <td>0.0</td>\n",
       "      <td>0.0</td>\n",
       "      <td>0.0</td>\n",
       "      <td>0.0</td>\n",
       "    </tr>\n",
       "    <tr>\n",
       "      <th>1</th>\n",
       "      <td>a0dc94c6-1c7c-11ec-a3a0-16262ee38c7f</td>\n",
       "      <td>0.0</td>\n",
       "      <td>0.0</td>\n",
       "      <td>0.333333</td>\n",
       "      <td>0.0</td>\n",
       "      <td>0.0</td>\n",
       "      <td>0.0</td>\n",
       "      <td>0.0</td>\n",
       "      <td>0.0</td>\n",
       "      <td>0.0</td>\n",
       "      <td>...</td>\n",
       "      <td>0.0</td>\n",
       "      <td>0.0</td>\n",
       "      <td>0.0</td>\n",
       "      <td>0.0</td>\n",
       "      <td>0.0</td>\n",
       "      <td>0.0</td>\n",
       "      <td>0.0</td>\n",
       "      <td>0.0</td>\n",
       "      <td>0.0</td>\n",
       "      <td>0.0</td>\n",
       "    </tr>\n",
       "  </tbody>\n",
       "</table>\n",
       "<p>2 rows × 57 columns</p>\n",
       "</div>"
      ],
      "text/plain": [
       "                            Patient-Uid  DRUG_TYPE_1  DRUG_TYPE_10  \\\n",
       "0  a0dc93f2-1c7c-11ec-9cd2-16262ee38c7f          0.0           0.0   \n",
       "1  a0dc94c6-1c7c-11ec-a3a0-16262ee38c7f          0.0           0.0   \n",
       "\n",
       "   DRUG_TYPE_11  DRUG_TYPE_12  DRUG_TYPE_13  DRUG_TYPE_14  DRUG_TYPE_15  \\\n",
       "0      0.000000           0.0           0.0           0.0           0.0   \n",
       "1      0.333333           0.0           0.0           0.0           0.0   \n",
       "\n",
       "   DRUG_TYPE_16  DRUG_TYPE_17  ...  SYMPTOM_TYPE_7  SYMPTOM_TYPE_8  \\\n",
       "0           0.0           0.0  ...             0.0             0.0   \n",
       "1           0.0           0.0  ...             0.0             0.0   \n",
       "\n",
       "   SYMPTOM_TYPE_9  TARGET DRUG  TEST_TYPE_0  TEST_TYPE_1  TEST_TYPE_2  \\\n",
       "0             0.0          0.0          0.0          0.0          0.0   \n",
       "1             0.0          0.0          0.0          0.0          0.0   \n",
       "\n",
       "   TEST_TYPE_3  TEST_TYPE_4  TEST_TYPE_5  \n",
       "0          0.0          0.0          0.0  \n",
       "1          0.0          0.0          0.0  \n",
       "\n",
       "[2 rows x 57 columns]"
      ]
     },
     "execution_count": 15,
     "metadata": {},
     "output_type": "execute_result"
    }
   ],
   "source": [
    "#Viewing the data\n",
    "train00_data.head(2)"
   ]
  },
  {
   "cell_type": "code",
   "execution_count": 16,
   "id": "b96c7a1a",
   "metadata": {
    "scrolled": true
   },
   "outputs": [],
   "source": [
    "# changeing the datatype of target value.\n",
    "train00_data['TARGET DRUG']=train00_data['TARGET DRUG'].astype(int)"
   ]
  },
  {
   "cell_type": "code",
   "execution_count": 17,
   "id": "2c070532",
   "metadata": {},
   "outputs": [
    {
     "data": {
      "text/html": [
       "<div>\n",
       "<style scoped>\n",
       "    .dataframe tbody tr th:only-of-type {\n",
       "        vertical-align: middle;\n",
       "    }\n",
       "\n",
       "    .dataframe tbody tr th {\n",
       "        vertical-align: top;\n",
       "    }\n",
       "\n",
       "    .dataframe thead th {\n",
       "        text-align: right;\n",
       "    }\n",
       "</style>\n",
       "<table border=\"1\" class=\"dataframe\">\n",
       "  <thead>\n",
       "    <tr style=\"text-align: right;\">\n",
       "      <th></th>\n",
       "      <th>Patient-Uid</th>\n",
       "      <th>DRUG_TYPE_1</th>\n",
       "      <th>DRUG_TYPE_10</th>\n",
       "      <th>DRUG_TYPE_11</th>\n",
       "      <th>DRUG_TYPE_12</th>\n",
       "      <th>DRUG_TYPE_13</th>\n",
       "      <th>DRUG_TYPE_14</th>\n",
       "      <th>DRUG_TYPE_15</th>\n",
       "      <th>DRUG_TYPE_16</th>\n",
       "      <th>DRUG_TYPE_17</th>\n",
       "      <th>...</th>\n",
       "      <th>SYMPTOM_TYPE_7</th>\n",
       "      <th>SYMPTOM_TYPE_8</th>\n",
       "      <th>SYMPTOM_TYPE_9</th>\n",
       "      <th>TARGET DRUG</th>\n",
       "      <th>TEST_TYPE_0</th>\n",
       "      <th>TEST_TYPE_1</th>\n",
       "      <th>TEST_TYPE_2</th>\n",
       "      <th>TEST_TYPE_3</th>\n",
       "      <th>TEST_TYPE_4</th>\n",
       "      <th>TEST_TYPE_5</th>\n",
       "    </tr>\n",
       "  </thead>\n",
       "  <tbody>\n",
       "    <tr>\n",
       "      <th>0</th>\n",
       "      <td>a0dc93f2-1c7c-11ec-9cd2-16262ee38c7f</td>\n",
       "      <td>0.0</td>\n",
       "      <td>0.0</td>\n",
       "      <td>0.000000</td>\n",
       "      <td>0.0</td>\n",
       "      <td>0.0</td>\n",
       "      <td>0.0</td>\n",
       "      <td>0.0</td>\n",
       "      <td>0.0</td>\n",
       "      <td>0.0</td>\n",
       "      <td>...</td>\n",
       "      <td>0.0</td>\n",
       "      <td>0.0</td>\n",
       "      <td>0.0</td>\n",
       "      <td>0</td>\n",
       "      <td>0.0</td>\n",
       "      <td>0.0</td>\n",
       "      <td>0.0</td>\n",
       "      <td>0.0</td>\n",
       "      <td>0.0</td>\n",
       "      <td>0.0</td>\n",
       "    </tr>\n",
       "    <tr>\n",
       "      <th>1</th>\n",
       "      <td>a0dc94c6-1c7c-11ec-a3a0-16262ee38c7f</td>\n",
       "      <td>0.0</td>\n",
       "      <td>0.0</td>\n",
       "      <td>0.333333</td>\n",
       "      <td>0.0</td>\n",
       "      <td>0.0</td>\n",
       "      <td>0.0</td>\n",
       "      <td>0.0</td>\n",
       "      <td>0.0</td>\n",
       "      <td>0.0</td>\n",
       "      <td>...</td>\n",
       "      <td>0.0</td>\n",
       "      <td>0.0</td>\n",
       "      <td>0.0</td>\n",
       "      <td>0</td>\n",
       "      <td>0.0</td>\n",
       "      <td>0.0</td>\n",
       "      <td>0.0</td>\n",
       "      <td>0.0</td>\n",
       "      <td>0.0</td>\n",
       "      <td>0.0</td>\n",
       "    </tr>\n",
       "  </tbody>\n",
       "</table>\n",
       "<p>2 rows × 57 columns</p>\n",
       "</div>"
      ],
      "text/plain": [
       "                            Patient-Uid  DRUG_TYPE_1  DRUG_TYPE_10  \\\n",
       "0  a0dc93f2-1c7c-11ec-9cd2-16262ee38c7f          0.0           0.0   \n",
       "1  a0dc94c6-1c7c-11ec-a3a0-16262ee38c7f          0.0           0.0   \n",
       "\n",
       "   DRUG_TYPE_11  DRUG_TYPE_12  DRUG_TYPE_13  DRUG_TYPE_14  DRUG_TYPE_15  \\\n",
       "0      0.000000           0.0           0.0           0.0           0.0   \n",
       "1      0.333333           0.0           0.0           0.0           0.0   \n",
       "\n",
       "   DRUG_TYPE_16  DRUG_TYPE_17  ...  SYMPTOM_TYPE_7  SYMPTOM_TYPE_8  \\\n",
       "0           0.0           0.0  ...             0.0             0.0   \n",
       "1           0.0           0.0  ...             0.0             0.0   \n",
       "\n",
       "   SYMPTOM_TYPE_9  TARGET DRUG  TEST_TYPE_0  TEST_TYPE_1  TEST_TYPE_2  \\\n",
       "0             0.0            0          0.0          0.0          0.0   \n",
       "1             0.0            0          0.0          0.0          0.0   \n",
       "\n",
       "   TEST_TYPE_3  TEST_TYPE_4  TEST_TYPE_5  \n",
       "0          0.0          0.0          0.0  \n",
       "1          0.0          0.0          0.0  \n",
       "\n",
       "[2 rows x 57 columns]"
      ]
     },
     "execution_count": 17,
     "metadata": {},
     "output_type": "execute_result"
    }
   ],
   "source": [
    "# viewing the dataset.\n",
    "train00_data.head(2)"
   ]
  },
  {
   "cell_type": "code",
   "execution_count": 67,
   "id": "fcc8aa96",
   "metadata": {},
   "outputs": [],
   "source": [
    "# Grouping the dataset of target 1 by patient uid\n",
    "train01_data=train01.groupby(by='Patient-Uid',as_index=False).mean()"
   ]
  },
  {
   "cell_type": "code",
   "execution_count": 68,
   "id": "1c9d5543",
   "metadata": {},
   "outputs": [
    {
     "data": {
      "text/html": [
       "<div>\n",
       "<style scoped>\n",
       "    .dataframe tbody tr th:only-of-type {\n",
       "        vertical-align: middle;\n",
       "    }\n",
       "\n",
       "    .dataframe tbody tr th {\n",
       "        vertical-align: top;\n",
       "    }\n",
       "\n",
       "    .dataframe thead th {\n",
       "        text-align: right;\n",
       "    }\n",
       "</style>\n",
       "<table border=\"1\" class=\"dataframe\">\n",
       "  <thead>\n",
       "    <tr style=\"text-align: right;\">\n",
       "      <th></th>\n",
       "      <th>Patient-Uid</th>\n",
       "      <th>DRUG_TYPE_1</th>\n",
       "      <th>DRUG_TYPE_10</th>\n",
       "      <th>DRUG_TYPE_11</th>\n",
       "      <th>DRUG_TYPE_12</th>\n",
       "      <th>DRUG_TYPE_13</th>\n",
       "      <th>DRUG_TYPE_14</th>\n",
       "      <th>DRUG_TYPE_15</th>\n",
       "      <th>DRUG_TYPE_16</th>\n",
       "      <th>DRUG_TYPE_17</th>\n",
       "      <th>...</th>\n",
       "      <th>SYMPTOM_TYPE_7</th>\n",
       "      <th>SYMPTOM_TYPE_8</th>\n",
       "      <th>SYMPTOM_TYPE_9</th>\n",
       "      <th>TARGET DRUG</th>\n",
       "      <th>TEST_TYPE_0</th>\n",
       "      <th>TEST_TYPE_1</th>\n",
       "      <th>TEST_TYPE_2</th>\n",
       "      <th>TEST_TYPE_3</th>\n",
       "      <th>TEST_TYPE_4</th>\n",
       "      <th>TEST_TYPE_5</th>\n",
       "    </tr>\n",
       "  </thead>\n",
       "  <tbody>\n",
       "    <tr>\n",
       "      <th>0</th>\n",
       "      <td>a0e9c384-1c7c-11ec-81a0-16262ee38c7f</td>\n",
       "      <td>0</td>\n",
       "      <td>0</td>\n",
       "      <td>0</td>\n",
       "      <td>0</td>\n",
       "      <td>0</td>\n",
       "      <td>0</td>\n",
       "      <td>0</td>\n",
       "      <td>0</td>\n",
       "      <td>0</td>\n",
       "      <td>...</td>\n",
       "      <td>0</td>\n",
       "      <td>0</td>\n",
       "      <td>0</td>\n",
       "      <td>1</td>\n",
       "      <td>0</td>\n",
       "      <td>0</td>\n",
       "      <td>0</td>\n",
       "      <td>0</td>\n",
       "      <td>0</td>\n",
       "      <td>0</td>\n",
       "    </tr>\n",
       "    <tr>\n",
       "      <th>1</th>\n",
       "      <td>a0e9c3b3-1c7c-11ec-ae8e-16262ee38c7f</td>\n",
       "      <td>0</td>\n",
       "      <td>0</td>\n",
       "      <td>0</td>\n",
       "      <td>0</td>\n",
       "      <td>0</td>\n",
       "      <td>0</td>\n",
       "      <td>0</td>\n",
       "      <td>0</td>\n",
       "      <td>0</td>\n",
       "      <td>...</td>\n",
       "      <td>0</td>\n",
       "      <td>0</td>\n",
       "      <td>0</td>\n",
       "      <td>1</td>\n",
       "      <td>0</td>\n",
       "      <td>0</td>\n",
       "      <td>0</td>\n",
       "      <td>0</td>\n",
       "      <td>0</td>\n",
       "      <td>0</td>\n",
       "    </tr>\n",
       "  </tbody>\n",
       "</table>\n",
       "<p>2 rows × 57 columns</p>\n",
       "</div>"
      ],
      "text/plain": [
       "                            Patient-Uid  DRUG_TYPE_1  DRUG_TYPE_10  \\\n",
       "0  a0e9c384-1c7c-11ec-81a0-16262ee38c7f            0             0   \n",
       "1  a0e9c3b3-1c7c-11ec-ae8e-16262ee38c7f            0             0   \n",
       "\n",
       "   DRUG_TYPE_11  DRUG_TYPE_12  DRUG_TYPE_13  DRUG_TYPE_14  DRUG_TYPE_15  \\\n",
       "0             0             0             0             0             0   \n",
       "1             0             0             0             0             0   \n",
       "\n",
       "   DRUG_TYPE_16  DRUG_TYPE_17  ...  SYMPTOM_TYPE_7  SYMPTOM_TYPE_8  \\\n",
       "0             0             0  ...               0               0   \n",
       "1             0             0  ...               0               0   \n",
       "\n",
       "   SYMPTOM_TYPE_9  TARGET DRUG  TEST_TYPE_0  TEST_TYPE_1  TEST_TYPE_2  \\\n",
       "0               0            1            0            0            0   \n",
       "1               0            1            0            0            0   \n",
       "\n",
       "   TEST_TYPE_3  TEST_TYPE_4  TEST_TYPE_5  \n",
       "0            0            0            0  \n",
       "1            0            0            0  \n",
       "\n",
       "[2 rows x 57 columns]"
      ]
     },
     "execution_count": 68,
     "metadata": {},
     "output_type": "execute_result"
    }
   ],
   "source": [
    "# viewing the dataset.\n",
    "train01_data.head(2)"
   ]
  },
  {
   "cell_type": "code",
   "execution_count": 71,
   "id": "affef0ac",
   "metadata": {},
   "outputs": [],
   "source": [
    "train01_data1=train01_data.drop('Patient-Uid',axis=1)"
   ]
  },
  {
   "cell_type": "code",
   "execution_count": 73,
   "id": "48048a74",
   "metadata": {},
   "outputs": [],
   "source": [
    "train01_data01=train01_data1.apply(lambda x:x.astype(float))"
   ]
  },
  {
   "cell_type": "code",
   "execution_count": 79,
   "id": "301bf410",
   "metadata": {},
   "outputs": [],
   "source": [
    "train01_data11=pd.concat([pd.DataFrame(train01_data['Patient-Uid']),train01_data01],axis=1)"
   ]
  },
  {
   "cell_type": "code",
   "execution_count": 80,
   "id": "dc09ab9b",
   "metadata": {},
   "outputs": [],
   "source": [
    "# Concating the data to form new dataset for taining purspose.\n",
    "Train_data=pd.concat([train00_data,train01_data11],axis=0)"
   ]
  },
  {
   "cell_type": "code",
   "execution_count": 81,
   "id": "203c6993",
   "metadata": {},
   "outputs": [],
   "source": [
    "# splitting the dataset to independent and dependent variable\n",
    "x_train=Train_data.drop(['TARGET DRUG','DRUG_TYPE_18'],axis=1)"
   ]
  },
  {
   "cell_type": "code",
   "execution_count": 82,
   "id": "f2e039c8",
   "metadata": {},
   "outputs": [],
   "source": [
    "x_train1=x_train.drop('Patient-Uid',axis=1)"
   ]
  },
  {
   "cell_type": "code",
   "execution_count": 83,
   "id": "ff55e05b",
   "metadata": {},
   "outputs": [],
   "source": [
    "# splitting the dataset to independent and dependent variable\n",
    "y_train=Train_data['TARGET DRUG']"
   ]
  },
  {
   "cell_type": "markdown",
   "id": "7f720d20",
   "metadata": {},
   "source": [
    "# cleaning the Test Dataset."
   ]
  },
  {
   "cell_type": "code",
   "execution_count": 24,
   "id": "e9c61820",
   "metadata": {},
   "outputs": [
    {
     "data": {
      "text/html": [
       "<div>\n",
       "<style scoped>\n",
       "    .dataframe tbody tr th:only-of-type {\n",
       "        vertical-align: middle;\n",
       "    }\n",
       "\n",
       "    .dataframe tbody tr th {\n",
       "        vertical-align: top;\n",
       "    }\n",
       "\n",
       "    .dataframe thead th {\n",
       "        text-align: right;\n",
       "    }\n",
       "</style>\n",
       "<table border=\"1\" class=\"dataframe\">\n",
       "  <thead>\n",
       "    <tr style=\"text-align: right;\">\n",
       "      <th></th>\n",
       "      <th>Patient-Uid</th>\n",
       "      <th>Date</th>\n",
       "      <th>Incident</th>\n",
       "    </tr>\n",
       "  </thead>\n",
       "  <tbody>\n",
       "    <tr>\n",
       "      <th>0</th>\n",
       "      <td>a0f9e8a9-1c7c-11ec-8d25-16262ee38c7f</td>\n",
       "      <td>2016-12-08</td>\n",
       "      <td>SYMPTOM_TYPE_0</td>\n",
       "    </tr>\n",
       "    <tr>\n",
       "      <th>1</th>\n",
       "      <td>a0f9e8a9-1c7c-11ec-8d25-16262ee38c7f</td>\n",
       "      <td>2018-10-17</td>\n",
       "      <td>DRUG_TYPE_0</td>\n",
       "    </tr>\n",
       "    <tr>\n",
       "      <th>2</th>\n",
       "      <td>a0f9e8a9-1c7c-11ec-8d25-16262ee38c7f</td>\n",
       "      <td>2017-12-01</td>\n",
       "      <td>DRUG_TYPE_2</td>\n",
       "    </tr>\n",
       "    <tr>\n",
       "      <th>3</th>\n",
       "      <td>a0f9e8a9-1c7c-11ec-8d25-16262ee38c7f</td>\n",
       "      <td>2018-12-05</td>\n",
       "      <td>DRUG_TYPE_1</td>\n",
       "    </tr>\n",
       "    <tr>\n",
       "      <th>4</th>\n",
       "      <td>a0f9e8a9-1c7c-11ec-8d25-16262ee38c7f</td>\n",
       "      <td>2017-11-04</td>\n",
       "      <td>SYMPTOM_TYPE_0</td>\n",
       "    </tr>\n",
       "  </tbody>\n",
       "</table>\n",
       "</div>"
      ],
      "text/plain": [
       "                            Patient-Uid       Date        Incident\n",
       "0  a0f9e8a9-1c7c-11ec-8d25-16262ee38c7f 2016-12-08  SYMPTOM_TYPE_0\n",
       "1  a0f9e8a9-1c7c-11ec-8d25-16262ee38c7f 2018-10-17     DRUG_TYPE_0\n",
       "2  a0f9e8a9-1c7c-11ec-8d25-16262ee38c7f 2017-12-01     DRUG_TYPE_2\n",
       "3  a0f9e8a9-1c7c-11ec-8d25-16262ee38c7f 2018-12-05     DRUG_TYPE_1\n",
       "4  a0f9e8a9-1c7c-11ec-8d25-16262ee38c7f 2017-11-04  SYMPTOM_TYPE_0"
      ]
     },
     "execution_count": 24,
     "metadata": {},
     "output_type": "execute_result"
    }
   ],
   "source": [
    "#View the top 5 datapoints of dataset\n",
    "test.head()"
   ]
  },
  {
   "cell_type": "code",
   "execution_count": 25,
   "id": "b883f1e2",
   "metadata": {},
   "outputs": [],
   "source": [
    "# dROPPING THE DATE AS IT DOESNOT HAVE SIGNIFICANT ROLE.\n",
    "test1=test.drop('Date',axis=1)"
   ]
  },
  {
   "cell_type": "code",
   "execution_count": 26,
   "id": "120ae0ab",
   "metadata": {},
   "outputs": [
    {
     "data": {
      "text/html": [
       "<div>\n",
       "<style scoped>\n",
       "    .dataframe tbody tr th:only-of-type {\n",
       "        vertical-align: middle;\n",
       "    }\n",
       "\n",
       "    .dataframe tbody tr th {\n",
       "        vertical-align: top;\n",
       "    }\n",
       "\n",
       "    .dataframe thead th {\n",
       "        text-align: right;\n",
       "    }\n",
       "</style>\n",
       "<table border=\"1\" class=\"dataframe\">\n",
       "  <thead>\n",
       "    <tr style=\"text-align: right;\">\n",
       "      <th></th>\n",
       "      <th>Patient-Uid</th>\n",
       "      <th>Incident</th>\n",
       "    </tr>\n",
       "  </thead>\n",
       "  <tbody>\n",
       "    <tr>\n",
       "      <th>0</th>\n",
       "      <td>a0f9e8a9-1c7c-11ec-8d25-16262ee38c7f</td>\n",
       "      <td>SYMPTOM_TYPE_0</td>\n",
       "    </tr>\n",
       "    <tr>\n",
       "      <th>1</th>\n",
       "      <td>a0f9e8a9-1c7c-11ec-8d25-16262ee38c7f</td>\n",
       "      <td>DRUG_TYPE_0</td>\n",
       "    </tr>\n",
       "  </tbody>\n",
       "</table>\n",
       "</div>"
      ],
      "text/plain": [
       "                            Patient-Uid        Incident\n",
       "0  a0f9e8a9-1c7c-11ec-8d25-16262ee38c7f  SYMPTOM_TYPE_0\n",
       "1  a0f9e8a9-1c7c-11ec-8d25-16262ee38c7f     DRUG_TYPE_0"
      ]
     },
     "execution_count": 26,
     "metadata": {},
     "output_type": "execute_result"
    }
   ],
   "source": [
    "# Viewing the dataset\n",
    "test1.head(2)"
   ]
  },
  {
   "cell_type": "code",
   "execution_count": 27,
   "id": "26d9243c",
   "metadata": {},
   "outputs": [],
   "source": [
    "# Doing OneHotEncoding:\n",
    "test_data=pd.get_dummies(test['Incident'],drop_first=True)"
   ]
  },
  {
   "cell_type": "code",
   "execution_count": 28,
   "id": "8c1a6597",
   "metadata": {},
   "outputs": [],
   "source": [
    "# Concating the datasets.\n",
    "test2=pd.concat([test1,test_data],axis=1)"
   ]
  },
  {
   "cell_type": "code",
   "execution_count": 29,
   "id": "9ccb5898",
   "metadata": {},
   "outputs": [],
   "source": [
    "# Dropping the Incident feature as it now Encoded.\n",
    "test3=test2.drop('Incident',axis=1)"
   ]
  },
  {
   "cell_type": "code",
   "execution_count": 30,
   "id": "35b0b5a5",
   "metadata": {},
   "outputs": [
    {
     "data": {
      "text/html": [
       "<div>\n",
       "<style scoped>\n",
       "    .dataframe tbody tr th:only-of-type {\n",
       "        vertical-align: middle;\n",
       "    }\n",
       "\n",
       "    .dataframe tbody tr th {\n",
       "        vertical-align: top;\n",
       "    }\n",
       "\n",
       "    .dataframe thead th {\n",
       "        text-align: right;\n",
       "    }\n",
       "</style>\n",
       "<table border=\"1\" class=\"dataframe\">\n",
       "  <thead>\n",
       "    <tr style=\"text-align: right;\">\n",
       "      <th></th>\n",
       "      <th>Patient-Uid</th>\n",
       "      <th>DRUG_TYPE_1</th>\n",
       "      <th>DRUG_TYPE_10</th>\n",
       "      <th>DRUG_TYPE_11</th>\n",
       "      <th>DRUG_TYPE_12</th>\n",
       "      <th>DRUG_TYPE_13</th>\n",
       "      <th>DRUG_TYPE_14</th>\n",
       "      <th>DRUG_TYPE_15</th>\n",
       "      <th>DRUG_TYPE_16</th>\n",
       "      <th>DRUG_TYPE_17</th>\n",
       "      <th>...</th>\n",
       "      <th>SYMPTOM_TYPE_6</th>\n",
       "      <th>SYMPTOM_TYPE_7</th>\n",
       "      <th>SYMPTOM_TYPE_8</th>\n",
       "      <th>SYMPTOM_TYPE_9</th>\n",
       "      <th>TEST_TYPE_0</th>\n",
       "      <th>TEST_TYPE_1</th>\n",
       "      <th>TEST_TYPE_2</th>\n",
       "      <th>TEST_TYPE_3</th>\n",
       "      <th>TEST_TYPE_4</th>\n",
       "      <th>TEST_TYPE_5</th>\n",
       "    </tr>\n",
       "  </thead>\n",
       "  <tbody>\n",
       "    <tr>\n",
       "      <th>0</th>\n",
       "      <td>a0f9e8a9-1c7c-11ec-8d25-16262ee38c7f</td>\n",
       "      <td>0</td>\n",
       "      <td>0</td>\n",
       "      <td>0</td>\n",
       "      <td>0</td>\n",
       "      <td>0</td>\n",
       "      <td>0</td>\n",
       "      <td>0</td>\n",
       "      <td>0</td>\n",
       "      <td>0</td>\n",
       "      <td>...</td>\n",
       "      <td>0</td>\n",
       "      <td>0</td>\n",
       "      <td>0</td>\n",
       "      <td>0</td>\n",
       "      <td>0</td>\n",
       "      <td>0</td>\n",
       "      <td>0</td>\n",
       "      <td>0</td>\n",
       "      <td>0</td>\n",
       "      <td>0</td>\n",
       "    </tr>\n",
       "    <tr>\n",
       "      <th>1</th>\n",
       "      <td>a0f9e8a9-1c7c-11ec-8d25-16262ee38c7f</td>\n",
       "      <td>0</td>\n",
       "      <td>0</td>\n",
       "      <td>0</td>\n",
       "      <td>0</td>\n",
       "      <td>0</td>\n",
       "      <td>0</td>\n",
       "      <td>0</td>\n",
       "      <td>0</td>\n",
       "      <td>0</td>\n",
       "      <td>...</td>\n",
       "      <td>0</td>\n",
       "      <td>0</td>\n",
       "      <td>0</td>\n",
       "      <td>0</td>\n",
       "      <td>0</td>\n",
       "      <td>0</td>\n",
       "      <td>0</td>\n",
       "      <td>0</td>\n",
       "      <td>0</td>\n",
       "      <td>0</td>\n",
       "    </tr>\n",
       "  </tbody>\n",
       "</table>\n",
       "<p>2 rows × 55 columns</p>\n",
       "</div>"
      ],
      "text/plain": [
       "                            Patient-Uid  DRUG_TYPE_1  DRUG_TYPE_10  \\\n",
       "0  a0f9e8a9-1c7c-11ec-8d25-16262ee38c7f            0             0   \n",
       "1  a0f9e8a9-1c7c-11ec-8d25-16262ee38c7f            0             0   \n",
       "\n",
       "   DRUG_TYPE_11  DRUG_TYPE_12  DRUG_TYPE_13  DRUG_TYPE_14  DRUG_TYPE_15  \\\n",
       "0             0             0             0             0             0   \n",
       "1             0             0             0             0             0   \n",
       "\n",
       "   DRUG_TYPE_16  DRUG_TYPE_17  ...  SYMPTOM_TYPE_6  SYMPTOM_TYPE_7  \\\n",
       "0             0             0  ...               0               0   \n",
       "1             0             0  ...               0               0   \n",
       "\n",
       "   SYMPTOM_TYPE_8  SYMPTOM_TYPE_9  TEST_TYPE_0  TEST_TYPE_1  TEST_TYPE_2  \\\n",
       "0               0               0            0            0            0   \n",
       "1               0               0            0            0            0   \n",
       "\n",
       "   TEST_TYPE_3  TEST_TYPE_4  TEST_TYPE_5  \n",
       "0            0            0            0  \n",
       "1            0            0            0  \n",
       "\n",
       "[2 rows x 55 columns]"
      ]
     },
     "execution_count": 30,
     "metadata": {},
     "output_type": "execute_result"
    }
   ],
   "source": [
    "# Viewing the newdataset\n",
    "test3.head(2)"
   ]
  },
  {
   "cell_type": "code",
   "execution_count": 56,
   "id": "e1497f82",
   "metadata": {},
   "outputs": [
    {
     "data": {
      "text/plain": [
       "(1065524, 55)"
      ]
     },
     "execution_count": 56,
     "metadata": {},
     "output_type": "execute_result"
    }
   ],
   "source": [
    "test3.shape"
   ]
  },
  {
   "cell_type": "code",
   "execution_count": 100,
   "id": "ebbe411a",
   "metadata": {},
   "outputs": [],
   "source": [
    "# Grouping the dataset of test by patient uid.\n",
    "Test_data=test3.groupby('Patient-Uid',as_index=False).mean()"
   ]
  },
  {
   "cell_type": "code",
   "execution_count": 101,
   "id": "2a0fa033",
   "metadata": {},
   "outputs": [
    {
     "data": {
      "text/html": [
       "<div>\n",
       "<style scoped>\n",
       "    .dataframe tbody tr th:only-of-type {\n",
       "        vertical-align: middle;\n",
       "    }\n",
       "\n",
       "    .dataframe tbody tr th {\n",
       "        vertical-align: top;\n",
       "    }\n",
       "\n",
       "    .dataframe thead th {\n",
       "        text-align: right;\n",
       "    }\n",
       "</style>\n",
       "<table border=\"1\" class=\"dataframe\">\n",
       "  <thead>\n",
       "    <tr style=\"text-align: right;\">\n",
       "      <th></th>\n",
       "      <th>Patient-Uid</th>\n",
       "      <th>DRUG_TYPE_1</th>\n",
       "      <th>DRUG_TYPE_10</th>\n",
       "      <th>DRUG_TYPE_11</th>\n",
       "      <th>DRUG_TYPE_12</th>\n",
       "      <th>DRUG_TYPE_13</th>\n",
       "      <th>DRUG_TYPE_14</th>\n",
       "      <th>DRUG_TYPE_15</th>\n",
       "      <th>DRUG_TYPE_16</th>\n",
       "      <th>DRUG_TYPE_17</th>\n",
       "      <th>...</th>\n",
       "      <th>SYMPTOM_TYPE_6</th>\n",
       "      <th>SYMPTOM_TYPE_7</th>\n",
       "      <th>SYMPTOM_TYPE_8</th>\n",
       "      <th>SYMPTOM_TYPE_9</th>\n",
       "      <th>TEST_TYPE_0</th>\n",
       "      <th>TEST_TYPE_1</th>\n",
       "      <th>TEST_TYPE_2</th>\n",
       "      <th>TEST_TYPE_3</th>\n",
       "      <th>TEST_TYPE_4</th>\n",
       "      <th>TEST_TYPE_5</th>\n",
       "    </tr>\n",
       "  </thead>\n",
       "  <tbody>\n",
       "    <tr>\n",
       "      <th>7783</th>\n",
       "      <td>a0ffb11c-1c7c-11ec-894f-16262ee38c7f</td>\n",
       "      <td>0.218391</td>\n",
       "      <td>0.0</td>\n",
       "      <td>0.000000</td>\n",
       "      <td>0.0</td>\n",
       "      <td>0.0</td>\n",
       "      <td>0.0</td>\n",
       "      <td>0.0</td>\n",
       "      <td>0.0</td>\n",
       "      <td>0.0</td>\n",
       "      <td>...</td>\n",
       "      <td>0.000000</td>\n",
       "      <td>0.0</td>\n",
       "      <td>0.0</td>\n",
       "      <td>0.0</td>\n",
       "      <td>0.000000</td>\n",
       "      <td>0.000000</td>\n",
       "      <td>0.000000</td>\n",
       "      <td>0.000000</td>\n",
       "      <td>0.0</td>\n",
       "      <td>0.0</td>\n",
       "    </tr>\n",
       "    <tr>\n",
       "      <th>8257</th>\n",
       "      <td>a1000afb-1c7c-11ec-be64-16262ee38c7f</td>\n",
       "      <td>0.112335</td>\n",
       "      <td>0.0</td>\n",
       "      <td>0.002203</td>\n",
       "      <td>0.0</td>\n",
       "      <td>0.0</td>\n",
       "      <td>0.0</td>\n",
       "      <td>0.0</td>\n",
       "      <td>0.0</td>\n",
       "      <td>0.0</td>\n",
       "      <td>...</td>\n",
       "      <td>0.002203</td>\n",
       "      <td>0.0</td>\n",
       "      <td>0.0</td>\n",
       "      <td>0.0</td>\n",
       "      <td>0.002203</td>\n",
       "      <td>0.006608</td>\n",
       "      <td>0.000000</td>\n",
       "      <td>0.004405</td>\n",
       "      <td>0.0</td>\n",
       "      <td>0.0</td>\n",
       "    </tr>\n",
       "    <tr>\n",
       "      <th>5515</th>\n",
       "      <td>a0fe0541-1c7c-11ec-a636-16262ee38c7f</td>\n",
       "      <td>0.225000</td>\n",
       "      <td>0.0</td>\n",
       "      <td>0.000000</td>\n",
       "      <td>0.0</td>\n",
       "      <td>0.0</td>\n",
       "      <td>0.0</td>\n",
       "      <td>0.0</td>\n",
       "      <td>0.0</td>\n",
       "      <td>0.0</td>\n",
       "      <td>...</td>\n",
       "      <td>0.012500</td>\n",
       "      <td>0.0</td>\n",
       "      <td>0.0</td>\n",
       "      <td>0.0</td>\n",
       "      <td>0.037500</td>\n",
       "      <td>0.062500</td>\n",
       "      <td>0.037500</td>\n",
       "      <td>0.000000</td>\n",
       "      <td>0.0</td>\n",
       "      <td>0.0</td>\n",
       "    </tr>\n",
       "    <tr>\n",
       "      <th>4324</th>\n",
       "      <td>a0fd218c-1c7c-11ec-a555-16262ee38c7f</td>\n",
       "      <td>0.276316</td>\n",
       "      <td>0.0</td>\n",
       "      <td>0.000000</td>\n",
       "      <td>0.0</td>\n",
       "      <td>0.0</td>\n",
       "      <td>0.0</td>\n",
       "      <td>0.0</td>\n",
       "      <td>0.0</td>\n",
       "      <td>0.0</td>\n",
       "      <td>...</td>\n",
       "      <td>0.000000</td>\n",
       "      <td>0.0</td>\n",
       "      <td>0.0</td>\n",
       "      <td>0.0</td>\n",
       "      <td>0.000000</td>\n",
       "      <td>0.026316</td>\n",
       "      <td>0.013158</td>\n",
       "      <td>0.000000</td>\n",
       "      <td>0.0</td>\n",
       "      <td>0.0</td>\n",
       "    </tr>\n",
       "  </tbody>\n",
       "</table>\n",
       "<p>4 rows × 55 columns</p>\n",
       "</div>"
      ],
      "text/plain": [
       "                               Patient-Uid  DRUG_TYPE_1  DRUG_TYPE_10  \\\n",
       "7783  a0ffb11c-1c7c-11ec-894f-16262ee38c7f     0.218391           0.0   \n",
       "8257  a1000afb-1c7c-11ec-be64-16262ee38c7f     0.112335           0.0   \n",
       "5515  a0fe0541-1c7c-11ec-a636-16262ee38c7f     0.225000           0.0   \n",
       "4324  a0fd218c-1c7c-11ec-a555-16262ee38c7f     0.276316           0.0   \n",
       "\n",
       "      DRUG_TYPE_11  DRUG_TYPE_12  DRUG_TYPE_13  DRUG_TYPE_14  DRUG_TYPE_15  \\\n",
       "7783      0.000000           0.0           0.0           0.0           0.0   \n",
       "8257      0.002203           0.0           0.0           0.0           0.0   \n",
       "5515      0.000000           0.0           0.0           0.0           0.0   \n",
       "4324      0.000000           0.0           0.0           0.0           0.0   \n",
       "\n",
       "      DRUG_TYPE_16  DRUG_TYPE_17  ...  SYMPTOM_TYPE_6  SYMPTOM_TYPE_7  \\\n",
       "7783           0.0           0.0  ...        0.000000             0.0   \n",
       "8257           0.0           0.0  ...        0.002203             0.0   \n",
       "5515           0.0           0.0  ...        0.012500             0.0   \n",
       "4324           0.0           0.0  ...        0.000000             0.0   \n",
       "\n",
       "      SYMPTOM_TYPE_8  SYMPTOM_TYPE_9  TEST_TYPE_0  TEST_TYPE_1  TEST_TYPE_2  \\\n",
       "7783             0.0             0.0     0.000000     0.000000     0.000000   \n",
       "8257             0.0             0.0     0.002203     0.006608     0.000000   \n",
       "5515             0.0             0.0     0.037500     0.062500     0.037500   \n",
       "4324             0.0             0.0     0.000000     0.026316     0.013158   \n",
       "\n",
       "      TEST_TYPE_3  TEST_TYPE_4  TEST_TYPE_5  \n",
       "7783     0.000000          0.0          0.0  \n",
       "8257     0.004405          0.0          0.0  \n",
       "5515     0.000000          0.0          0.0  \n",
       "4324     0.000000          0.0          0.0  \n",
       "\n",
       "[4 rows x 55 columns]"
      ]
     },
     "execution_count": 101,
     "metadata": {},
     "output_type": "execute_result"
    }
   ],
   "source": [
    "# Viewing the Dataset.\n",
    "Test_data.sample(4)"
   ]
  },
  {
   "cell_type": "code",
   "execution_count": 102,
   "id": "5a0c2227",
   "metadata": {},
   "outputs": [
    {
     "data": {
      "text/plain": [
       "(11482, 55)"
      ]
     },
     "execution_count": 102,
     "metadata": {},
     "output_type": "execute_result"
    }
   ],
   "source": [
    "Test_data.shape"
   ]
  },
  {
   "cell_type": "code",
   "execution_count": 103,
   "id": "625de953",
   "metadata": {},
   "outputs": [],
   "source": [
    "x_Test_data=Test_data.drop('Patient-Uid',axis=1)"
   ]
  },
  {
   "cell_type": "code",
   "execution_count": 104,
   "id": "283af2ed",
   "metadata": {},
   "outputs": [
    {
     "data": {
      "text/plain": [
       "(11482, 54)"
      ]
     },
     "execution_count": 104,
     "metadata": {},
     "output_type": "execute_result"
    }
   ],
   "source": [
    "x_Test_data.shape"
   ]
  },
  {
   "cell_type": "markdown",
   "id": "ba3534d2",
   "metadata": {},
   "source": [
    "# Modeling the train Dataset"
   ]
  },
  {
   "cell_type": "code",
   "execution_count": 35,
   "id": "9591aade",
   "metadata": {},
   "outputs": [],
   "source": [
    "from sklearn.linear_model import LogisticRegression\n",
    "from sklearn.metrics import accuracy_score"
   ]
  },
  {
   "cell_type": "code",
   "execution_count": 84,
   "id": "86408c91",
   "metadata": {},
   "outputs": [],
   "source": [
    "lr=LogisticRegression()"
   ]
  },
  {
   "cell_type": "code",
   "execution_count": 85,
   "id": "cfafc95f",
   "metadata": {},
   "outputs": [],
   "source": [
    "model_train=lr.fit(x_train1,y_train)"
   ]
  },
  {
   "cell_type": "code",
   "execution_count": 86,
   "id": "dbda2d5c",
   "metadata": {},
   "outputs": [],
   "source": [
    "predict_train=lr.predict(x_train1)"
   ]
  },
  {
   "cell_type": "code",
   "execution_count": 87,
   "id": "28fccff2",
   "metadata": {},
   "outputs": [],
   "source": [
    "score=accuracy_score(predict_train,y_train)"
   ]
  },
  {
   "cell_type": "code",
   "execution_count": 88,
   "id": "0dca848f",
   "metadata": {},
   "outputs": [
    {
     "data": {
      "text/plain": [
       "0.9755715339233039"
      ]
     },
     "execution_count": 88,
     "metadata": {},
     "output_type": "execute_result"
    }
   ],
   "source": [
    "score"
   ]
  },
  {
   "cell_type": "code",
   "execution_count": 105,
   "id": "0f196f23",
   "metadata": {},
   "outputs": [],
   "source": [
    "predict_test=lr.predict(x_Test_data).astype(int)"
   ]
  },
  {
   "cell_type": "code",
   "execution_count": 106,
   "id": "4976c733",
   "metadata": {},
   "outputs": [],
   "source": [
    "data=pd.DataFrame(predict_test)"
   ]
  },
  {
   "cell_type": "code",
   "execution_count": 110,
   "id": "82b23592",
   "metadata": {},
   "outputs": [],
   "source": [
    "data1=pd.concat([pd.DataFrame(Test_data['Patient-Uid']),data],axis=1)"
   ]
  },
  {
   "cell_type": "code",
   "execution_count": 112,
   "id": "c767bfc6",
   "metadata": {},
   "outputs": [],
   "source": [
    "data1.to_excel(\"Sample_submission.xlsx\")"
   ]
  },
  {
   "cell_type": "code",
   "execution_count": 113,
   "id": "f50e609d",
   "metadata": {},
   "outputs": [],
   "source": [
    "data1.to_csv(\"Sample_submission1.csv\")"
   ]
  },
  {
   "cell_type": "code",
   "execution_count": null,
   "id": "b55a76d8",
   "metadata": {},
   "outputs": [],
   "source": []
  }
 ],
 "metadata": {
  "kernelspec": {
   "display_name": "Python 3",
   "language": "python",
   "name": "python3"
  },
  "language_info": {
   "codemirror_mode": {
    "name": "ipython",
    "version": 3
   },
   "file_extension": ".py",
   "mimetype": "text/x-python",
   "name": "python",
   "nbconvert_exporter": "python",
   "pygments_lexer": "ipython3",
   "version": "3.8.8"
  }
 },
 "nbformat": 4,
 "nbformat_minor": 5
}
